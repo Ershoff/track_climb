{
 "cells": [
  {
   "cell_type": "code",
   "execution_count": 2,
   "metadata": {},
   "outputs": [],
   "source": [
    "import numpy as np\n",
    "import cv2\n",
    "\n",
    "def paint_points_on_image(img, roots_coords):\n",
    "    for p in roots_coords:\n",
    "        cv2.circle(img,(p[0], p[1]), 3, (255,255,255), -1)\n",
    "        \n",
    "    return img\n",
    "\n",
    "def ws_marker_image(img, roots_coords)\n",
    "    marker_image = np.zeros((height,width,3), np.uint8)\n",
    "\n",
    "    return marker_image"
   ]
  },
  {
   "cell_type": "code",
   "execution_count": 7,
   "metadata": {},
   "outputs": [],
   "source": [
    "img = cv2.imread(\"/home/ruff/Work/TrackClimb/root_detector/ds/roots/imgs+markup/anton_24_3.jpg\")\n",
    "\n",
    "# roots coordinate:\n",
    "\n",
    "roots_coords = [(243,96), \n",
    "                (201,136), \n",
    "                (239,205), \n",
    "                (159,242), \n",
    "                (262,317),\n",
    "                (175,354),\n",
    "                (278,401),\n",
    "                (247,485)]\n",
    "\n",
    "\n",
    "img_points = paint_points_on_image(img, roots_coords)\n",
    "\n",
    "cv2.imwrite('anton_24_3_with_points.jpg', img_points)\n",
    "\n",
    "cv2.imshow('image', cv2.cvtColor(img_points, cv2.COLOR_BGR2GRAY))\n",
    "cv2.waitKey(0)\n",
    "cv2.destroyAllWindows()\n",
    "\n",
    "# markers = cv2.watershed(img, markers)\n",
    "# img[markers == -1] = [255,0,0]"
   ]
  }
 ],
 "metadata": {
  "kernelspec": {
   "display_name": "Python 3",
   "language": "python",
   "name": "python3"
  },
  "language_info": {
   "codemirror_mode": {
    "name": "ipython",
    "version": 3
   },
   "file_extension": ".py",
   "mimetype": "text/x-python",
   "name": "python",
   "nbconvert_exporter": "python",
   "pygments_lexer": "ipython3",
   "version": "3.6.4"
  }
 },
 "nbformat": 4,
 "nbformat_minor": 2
}
